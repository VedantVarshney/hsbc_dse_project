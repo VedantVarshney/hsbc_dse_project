{
 "cells": [
  {
   "cell_type": "code",
   "execution_count": 1,
   "metadata": {},
   "outputs": [],
   "source": [
    "import pandas as pd\n",
    "import numpy as np\n",
    "\n",
    "from matplotlib import pyplot as plt\n",
    "import seaborn as sns\n",
    "\n",
    "from imblearn.over_sampling import SMOTE, ADASYN\n",
    "from sklearn.ensemble import AdaBoostClassifier, GradientBoostingClassifier\n",
    "from sklearn.model_selection import cross_val_score, cross_validate, GridSearchCV\n",
    "from sklearn.metrics import plot_confusion_matrix, plot_roc_curve, classification_report\n",
    "from sklearn.tree import DecisionTreeClassifier\n",
    "\n",
    "from pathlib import Path\n",
    "\n",
    "# May require pip installation\n",
    "from tqdm.auto import tqdm\n",
    "\n",
    "from importlib import reload\n",
    "\n",
    "import sys\n",
    "sys.path.append(\"../src\")\n",
    "\n",
    "import utils"
   ]
  },
  {
   "cell_type": "code",
   "execution_count": 2,
   "metadata": {},
   "outputs": [
    {
     "data": {
      "text/html": [
       "<div>\n",
       "<style scoped>\n",
       "    .dataframe tbody tr th:only-of-type {\n",
       "        vertical-align: middle;\n",
       "    }\n",
       "\n",
       "    .dataframe tbody tr th {\n",
       "        vertical-align: top;\n",
       "    }\n",
       "\n",
       "    .dataframe thead th {\n",
       "        text-align: right;\n",
       "    }\n",
       "</style>\n",
       "<table border=\"1\" class=\"dataframe\">\n",
       "  <thead>\n",
       "    <tr style=\"text-align: right;\">\n",
       "      <th></th>\n",
       "      <th>age</th>\n",
       "      <th>job</th>\n",
       "      <th>marital</th>\n",
       "      <th>education</th>\n",
       "      <th>default</th>\n",
       "      <th>balance</th>\n",
       "      <th>housing</th>\n",
       "      <th>loan</th>\n",
       "      <th>contact</th>\n",
       "      <th>day</th>\n",
       "      <th>month</th>\n",
       "      <th>duration</th>\n",
       "      <th>campaign</th>\n",
       "      <th>pdays</th>\n",
       "      <th>previous</th>\n",
       "      <th>poutcome</th>\n",
       "      <th>y</th>\n",
       "    </tr>\n",
       "  </thead>\n",
       "  <tbody>\n",
       "    <tr>\n",
       "      <th>0</th>\n",
       "      <td>58</td>\n",
       "      <td>management</td>\n",
       "      <td>married</td>\n",
       "      <td>tertiary</td>\n",
       "      <td>no</td>\n",
       "      <td>2143</td>\n",
       "      <td>yes</td>\n",
       "      <td>no</td>\n",
       "      <td>unknown</td>\n",
       "      <td>5</td>\n",
       "      <td>may</td>\n",
       "      <td>261</td>\n",
       "      <td>1</td>\n",
       "      <td>-1</td>\n",
       "      <td>0</td>\n",
       "      <td>unknown</td>\n",
       "      <td>no</td>\n",
       "    </tr>\n",
       "    <tr>\n",
       "      <th>1</th>\n",
       "      <td>44</td>\n",
       "      <td>technician</td>\n",
       "      <td>single</td>\n",
       "      <td>secondary</td>\n",
       "      <td>no</td>\n",
       "      <td>29</td>\n",
       "      <td>yes</td>\n",
       "      <td>no</td>\n",
       "      <td>unknown</td>\n",
       "      <td>5</td>\n",
       "      <td>may</td>\n",
       "      <td>151</td>\n",
       "      <td>1</td>\n",
       "      <td>-1</td>\n",
       "      <td>0</td>\n",
       "      <td>unknown</td>\n",
       "      <td>no</td>\n",
       "    </tr>\n",
       "    <tr>\n",
       "      <th>2</th>\n",
       "      <td>33</td>\n",
       "      <td>entrepreneur</td>\n",
       "      <td>married</td>\n",
       "      <td>secondary</td>\n",
       "      <td>no</td>\n",
       "      <td>2</td>\n",
       "      <td>yes</td>\n",
       "      <td>yes</td>\n",
       "      <td>unknown</td>\n",
       "      <td>5</td>\n",
       "      <td>may</td>\n",
       "      <td>76</td>\n",
       "      <td>1</td>\n",
       "      <td>-1</td>\n",
       "      <td>0</td>\n",
       "      <td>unknown</td>\n",
       "      <td>no</td>\n",
       "    </tr>\n",
       "    <tr>\n",
       "      <th>3</th>\n",
       "      <td>47</td>\n",
       "      <td>blue-collar</td>\n",
       "      <td>married</td>\n",
       "      <td>unknown</td>\n",
       "      <td>no</td>\n",
       "      <td>1506</td>\n",
       "      <td>yes</td>\n",
       "      <td>no</td>\n",
       "      <td>unknown</td>\n",
       "      <td>5</td>\n",
       "      <td>may</td>\n",
       "      <td>92</td>\n",
       "      <td>1</td>\n",
       "      <td>-1</td>\n",
       "      <td>0</td>\n",
       "      <td>unknown</td>\n",
       "      <td>no</td>\n",
       "    </tr>\n",
       "    <tr>\n",
       "      <th>4</th>\n",
       "      <td>33</td>\n",
       "      <td>unknown</td>\n",
       "      <td>single</td>\n",
       "      <td>unknown</td>\n",
       "      <td>no</td>\n",
       "      <td>1</td>\n",
       "      <td>no</td>\n",
       "      <td>no</td>\n",
       "      <td>unknown</td>\n",
       "      <td>5</td>\n",
       "      <td>may</td>\n",
       "      <td>198</td>\n",
       "      <td>1</td>\n",
       "      <td>-1</td>\n",
       "      <td>0</td>\n",
       "      <td>unknown</td>\n",
       "      <td>no</td>\n",
       "    </tr>\n",
       "  </tbody>\n",
       "</table>\n",
       "</div>"
      ],
      "text/plain": [
       "   age           job  marital  education default  balance housing loan  \\\n",
       "0   58    management  married   tertiary      no     2143     yes   no   \n",
       "1   44    technician   single  secondary      no       29     yes   no   \n",
       "2   33  entrepreneur  married  secondary      no        2     yes  yes   \n",
       "3   47   blue-collar  married    unknown      no     1506     yes   no   \n",
       "4   33       unknown   single    unknown      no        1      no   no   \n",
       "\n",
       "   contact  day month  duration  campaign  pdays  previous poutcome   y  \n",
       "0  unknown    5   may       261         1     -1         0  unknown  no  \n",
       "1  unknown    5   may       151         1     -1         0  unknown  no  \n",
       "2  unknown    5   may        76         1     -1         0  unknown  no  \n",
       "3  unknown    5   may        92         1     -1         0  unknown  no  \n",
       "4  unknown    5   may       198         1     -1         0  unknown  no  "
      ]
     },
     "execution_count": 2,
     "metadata": {},
     "output_type": "execute_result"
    }
   ],
   "source": [
    "plt.rcParams.update({'font.size': 22,\n",
    "                            'figure.figsize': (12, 8)})\n",
    "plt.style.use(\"seaborn\")\n",
    "\n",
    "f_path = Path(\"../data/bank-full.csv\")\n",
    "\n",
    "df = pd.read_csv(f_path, delimiter=\";\")\n",
    "df.head()"
   ]
  },
  {
   "cell_type": "code",
   "execution_count": 55,
   "metadata": {},
   "outputs": [
    {
     "data": {
      "text/html": [
       "<div>\n",
       "<style scoped>\n",
       "    .dataframe tbody tr th:only-of-type {\n",
       "        vertical-align: middle;\n",
       "    }\n",
       "\n",
       "    .dataframe tbody tr th {\n",
       "        vertical-align: top;\n",
       "    }\n",
       "\n",
       "    .dataframe thead th {\n",
       "        text-align: right;\n",
       "    }\n",
       "</style>\n",
       "<table border=\"1\" class=\"dataframe\">\n",
       "  <thead>\n",
       "    <tr style=\"text-align: right;\">\n",
       "      <th></th>\n",
       "      <th>day</th>\n",
       "      <th>campaign</th>\n",
       "      <th>pdays</th>\n",
       "      <th>previous</th>\n",
       "      <th>age_transf</th>\n",
       "      <th>balance_transf</th>\n",
       "      <th>duration_transf</th>\n",
       "      <th>job_blue-collar</th>\n",
       "      <th>job_entrepreneur</th>\n",
       "      <th>job_housemaid</th>\n",
       "      <th>...</th>\n",
       "      <th>month_jul</th>\n",
       "      <th>month_jun</th>\n",
       "      <th>month_mar</th>\n",
       "      <th>month_may</th>\n",
       "      <th>month_nov</th>\n",
       "      <th>month_oct</th>\n",
       "      <th>month_sep</th>\n",
       "      <th>poutcome_other</th>\n",
       "      <th>poutcome_success</th>\n",
       "      <th>poutcome_unknown</th>\n",
       "    </tr>\n",
       "  </thead>\n",
       "  <tbody>\n",
       "    <tr>\n",
       "      <th>41626</th>\n",
       "      <td>25</td>\n",
       "      <td>1</td>\n",
       "      <td>-1</td>\n",
       "      <td>0</td>\n",
       "      <td>1.041921</td>\n",
       "      <td>-0.408664</td>\n",
       "      <td>-0.594750</td>\n",
       "      <td>0</td>\n",
       "      <td>0</td>\n",
       "      <td>0</td>\n",
       "      <td>...</td>\n",
       "      <td>0</td>\n",
       "      <td>0</td>\n",
       "      <td>0</td>\n",
       "      <td>0</td>\n",
       "      <td>0</td>\n",
       "      <td>0</td>\n",
       "      <td>1</td>\n",
       "      <td>0</td>\n",
       "      <td>0</td>\n",
       "      <td>1</td>\n",
       "    </tr>\n",
       "    <tr>\n",
       "      <th>31347</th>\n",
       "      <td>16</td>\n",
       "      <td>13</td>\n",
       "      <td>-1</td>\n",
       "      <td>0</td>\n",
       "      <td>-1.218254</td>\n",
       "      <td>-0.296667</td>\n",
       "      <td>-0.680179</td>\n",
       "      <td>0</td>\n",
       "      <td>0</td>\n",
       "      <td>0</td>\n",
       "      <td>...</td>\n",
       "      <td>0</td>\n",
       "      <td>0</td>\n",
       "      <td>1</td>\n",
       "      <td>0</td>\n",
       "      <td>0</td>\n",
       "      <td>0</td>\n",
       "      <td>0</td>\n",
       "      <td>0</td>\n",
       "      <td>0</td>\n",
       "      <td>1</td>\n",
       "    </tr>\n",
       "    <tr>\n",
       "      <th>22563</th>\n",
       "      <td>22</td>\n",
       "      <td>1</td>\n",
       "      <td>-1</td>\n",
       "      <td>0</td>\n",
       "      <td>-0.464863</td>\n",
       "      <td>-0.396183</td>\n",
       "      <td>-0.528737</td>\n",
       "      <td>0</td>\n",
       "      <td>0</td>\n",
       "      <td>0</td>\n",
       "      <td>...</td>\n",
       "      <td>0</td>\n",
       "      <td>0</td>\n",
       "      <td>0</td>\n",
       "      <td>0</td>\n",
       "      <td>0</td>\n",
       "      <td>0</td>\n",
       "      <td>0</td>\n",
       "      <td>0</td>\n",
       "      <td>0</td>\n",
       "      <td>1</td>\n",
       "    </tr>\n",
       "    <tr>\n",
       "      <th>37243</th>\n",
       "      <td>13</td>\n",
       "      <td>1</td>\n",
       "      <td>-1</td>\n",
       "      <td>0</td>\n",
       "      <td>1.324443</td>\n",
       "      <td>-0.341334</td>\n",
       "      <td>-0.225854</td>\n",
       "      <td>0</td>\n",
       "      <td>1</td>\n",
       "      <td>0</td>\n",
       "      <td>...</td>\n",
       "      <td>0</td>\n",
       "      <td>0</td>\n",
       "      <td>0</td>\n",
       "      <td>1</td>\n",
       "      <td>0</td>\n",
       "      <td>0</td>\n",
       "      <td>0</td>\n",
       "      <td>0</td>\n",
       "      <td>0</td>\n",
       "      <td>1</td>\n",
       "    </tr>\n",
       "    <tr>\n",
       "      <th>32259</th>\n",
       "      <td>16</td>\n",
       "      <td>1</td>\n",
       "      <td>339</td>\n",
       "      <td>1</td>\n",
       "      <td>-0.276515</td>\n",
       "      <td>-0.150513</td>\n",
       "      <td>0.399328</td>\n",
       "      <td>0</td>\n",
       "      <td>0</td>\n",
       "      <td>0</td>\n",
       "      <td>...</td>\n",
       "      <td>0</td>\n",
       "      <td>0</td>\n",
       "      <td>0</td>\n",
       "      <td>0</td>\n",
       "      <td>0</td>\n",
       "      <td>0</td>\n",
       "      <td>0</td>\n",
       "      <td>0</td>\n",
       "      <td>0</td>\n",
       "      <td>0</td>\n",
       "    </tr>\n",
       "    <tr>\n",
       "      <th>...</th>\n",
       "      <td>...</td>\n",
       "      <td>...</td>\n",
       "      <td>...</td>\n",
       "      <td>...</td>\n",
       "      <td>...</td>\n",
       "      <td>...</td>\n",
       "      <td>...</td>\n",
       "      <td>...</td>\n",
       "      <td>...</td>\n",
       "      <td>...</td>\n",
       "      <td>...</td>\n",
       "      <td>...</td>\n",
       "      <td>...</td>\n",
       "      <td>...</td>\n",
       "      <td>...</td>\n",
       "      <td>...</td>\n",
       "      <td>...</td>\n",
       "      <td>...</td>\n",
       "      <td>...</td>\n",
       "      <td>...</td>\n",
       "      <td>...</td>\n",
       "    </tr>\n",
       "    <tr>\n",
       "      <th>11284</th>\n",
       "      <td>18</td>\n",
       "      <td>1</td>\n",
       "      <td>-1</td>\n",
       "      <td>0</td>\n",
       "      <td>0.288529</td>\n",
       "      <td>-0.099605</td>\n",
       "      <td>7.124890</td>\n",
       "      <td>0</td>\n",
       "      <td>0</td>\n",
       "      <td>1</td>\n",
       "      <td>...</td>\n",
       "      <td>0</td>\n",
       "      <td>1</td>\n",
       "      <td>0</td>\n",
       "      <td>0</td>\n",
       "      <td>0</td>\n",
       "      <td>0</td>\n",
       "      <td>0</td>\n",
       "      <td>0</td>\n",
       "      <td>0</td>\n",
       "      <td>1</td>\n",
       "    </tr>\n",
       "    <tr>\n",
       "      <th>44732</th>\n",
       "      <td>8</td>\n",
       "      <td>1</td>\n",
       "      <td>92</td>\n",
       "      <td>1</td>\n",
       "      <td>-1.689124</td>\n",
       "      <td>-0.280574</td>\n",
       "      <td>-0.187023</td>\n",
       "      <td>0</td>\n",
       "      <td>0</td>\n",
       "      <td>0</td>\n",
       "      <td>...</td>\n",
       "      <td>0</td>\n",
       "      <td>0</td>\n",
       "      <td>0</td>\n",
       "      <td>0</td>\n",
       "      <td>0</td>\n",
       "      <td>0</td>\n",
       "      <td>1</td>\n",
       "      <td>0</td>\n",
       "      <td>0</td>\n",
       "      <td>0</td>\n",
       "    </tr>\n",
       "    <tr>\n",
       "      <th>38158</th>\n",
       "      <td>15</td>\n",
       "      <td>1</td>\n",
       "      <td>-1</td>\n",
       "      <td>0</td>\n",
       "      <td>-0.653211</td>\n",
       "      <td>-0.014869</td>\n",
       "      <td>-0.074413</td>\n",
       "      <td>0</td>\n",
       "      <td>0</td>\n",
       "      <td>0</td>\n",
       "      <td>...</td>\n",
       "      <td>0</td>\n",
       "      <td>0</td>\n",
       "      <td>0</td>\n",
       "      <td>1</td>\n",
       "      <td>0</td>\n",
       "      <td>0</td>\n",
       "      <td>0</td>\n",
       "      <td>0</td>\n",
       "      <td>0</td>\n",
       "      <td>1</td>\n",
       "    </tr>\n",
       "    <tr>\n",
       "      <th>860</th>\n",
       "      <td>7</td>\n",
       "      <td>1</td>\n",
       "      <td>-1</td>\n",
       "      <td>0</td>\n",
       "      <td>-0.747384</td>\n",
       "      <td>-0.393227</td>\n",
       "      <td>-0.571452</td>\n",
       "      <td>0</td>\n",
       "      <td>0</td>\n",
       "      <td>0</td>\n",
       "      <td>...</td>\n",
       "      <td>0</td>\n",
       "      <td>0</td>\n",
       "      <td>0</td>\n",
       "      <td>1</td>\n",
       "      <td>0</td>\n",
       "      <td>0</td>\n",
       "      <td>0</td>\n",
       "      <td>0</td>\n",
       "      <td>0</td>\n",
       "      <td>1</td>\n",
       "    </tr>\n",
       "    <tr>\n",
       "      <th>15795</th>\n",
       "      <td>21</td>\n",
       "      <td>10</td>\n",
       "      <td>-1</td>\n",
       "      <td>0</td>\n",
       "      <td>-0.276515</td>\n",
       "      <td>-0.460885</td>\n",
       "      <td>-0.738426</td>\n",
       "      <td>1</td>\n",
       "      <td>0</td>\n",
       "      <td>0</td>\n",
       "      <td>...</td>\n",
       "      <td>1</td>\n",
       "      <td>0</td>\n",
       "      <td>0</td>\n",
       "      <td>0</td>\n",
       "      <td>0</td>\n",
       "      <td>0</td>\n",
       "      <td>0</td>\n",
       "      <td>0</td>\n",
       "      <td>0</td>\n",
       "      <td>1</td>\n",
       "    </tr>\n",
       "  </tbody>\n",
       "</table>\n",
       "<p>33908 rows × 42 columns</p>\n",
       "</div>"
      ],
      "text/plain": [
       "       day  campaign  pdays  previous  age_transf  balance_transf  \\\n",
       "41626   25         1     -1         0    1.041921       -0.408664   \n",
       "31347   16        13     -1         0   -1.218254       -0.296667   \n",
       "22563   22         1     -1         0   -0.464863       -0.396183   \n",
       "37243   13         1     -1         0    1.324443       -0.341334   \n",
       "32259   16         1    339         1   -0.276515       -0.150513   \n",
       "...    ...       ...    ...       ...         ...             ...   \n",
       "11284   18         1     -1         0    0.288529       -0.099605   \n",
       "44732    8         1     92         1   -1.689124       -0.280574   \n",
       "38158   15         1     -1         0   -0.653211       -0.014869   \n",
       "860      7         1     -1         0   -0.747384       -0.393227   \n",
       "15795   21        10     -1         0   -0.276515       -0.460885   \n",
       "\n",
       "       duration_transf  job_blue-collar  job_entrepreneur  job_housemaid  ...  \\\n",
       "41626        -0.594750                0                 0              0  ...   \n",
       "31347        -0.680179                0                 0              0  ...   \n",
       "22563        -0.528737                0                 0              0  ...   \n",
       "37243        -0.225854                0                 1              0  ...   \n",
       "32259         0.399328                0                 0              0  ...   \n",
       "...                ...              ...               ...            ...  ...   \n",
       "11284         7.124890                0                 0              1  ...   \n",
       "44732        -0.187023                0                 0              0  ...   \n",
       "38158        -0.074413                0                 0              0  ...   \n",
       "860          -0.571452                0                 0              0  ...   \n",
       "15795        -0.738426                1                 0              0  ...   \n",
       "\n",
       "       month_jul  month_jun  month_mar  month_may  month_nov  month_oct  \\\n",
       "41626          0          0          0          0          0          0   \n",
       "31347          0          0          1          0          0          0   \n",
       "22563          0          0          0          0          0          0   \n",
       "37243          0          0          0          1          0          0   \n",
       "32259          0          0          0          0          0          0   \n",
       "...          ...        ...        ...        ...        ...        ...   \n",
       "11284          0          1          0          0          0          0   \n",
       "44732          0          0          0          0          0          0   \n",
       "38158          0          0          0          1          0          0   \n",
       "860            0          0          0          1          0          0   \n",
       "15795          1          0          0          0          0          0   \n",
       "\n",
       "       month_sep  poutcome_other  poutcome_success  poutcome_unknown  \n",
       "41626          1               0                 0                 1  \n",
       "31347          0               0                 0                 1  \n",
       "22563          0               0                 0                 1  \n",
       "37243          0               0                 0                 1  \n",
       "32259          0               0                 0                 0  \n",
       "...          ...             ...               ...               ...  \n",
       "11284          0               0                 0                 1  \n",
       "44732          1               0                 0                 0  \n",
       "38158          0               0                 0                 1  \n",
       "860            0               0                 0                 1  \n",
       "15795          0               0                 0                 1  \n",
       "\n",
       "[33908 rows x 42 columns]"
      ]
     },
     "execution_count": 55,
     "metadata": {},
     "output_type": "execute_result"
    }
   ],
   "source": [
    "RANDOM_STATE = 42\n",
    "\n",
    "import utils\n",
    "reload(utils)\n",
    "\n",
    "X_train, X_test, y_train, y_test, scaler = utils.preprocess(df, random_state=RANDOM_STATE)\n",
    "X_train\n"
   ]
  },
  {
   "cell_type": "markdown",
   "metadata": {},
   "source": [
    "# Baseline model"
   ]
  },
  {
   "cell_type": "code",
   "execution_count": 56,
   "metadata": {},
   "outputs": [
    {
     "name": "stdout",
     "output_type": "stream",
     "text": [
      "Wall time: 297 ms\n"
     ]
    },
    {
     "data": {
      "text/plain": [
       "DecisionTreeClassifier(random_state=42)"
      ]
     },
     "execution_count": 56,
     "metadata": {},
     "output_type": "execute_result"
    }
   ],
   "source": [
    "%%time\n",
    "dt = DecisionTreeClassifier(random_state=RANDOM_STATE)\n",
    "dt.fit(X_train, y_train)"
   ]
  },
  {
   "cell_type": "markdown",
   "metadata": {},
   "source": [
    "# Drop Low Importance Features"
   ]
  },
  {
   "cell_type": "code",
   "execution_count": 8,
   "metadata": {},
   "outputs": [
    {
     "data": {
      "text/plain": [
       "array([0.08373751, 0.03411881, 0.04604342, 0.01420477, 0.09246333,\n",
       "       0.12087074, 0.27429252, 0.00711229, 0.00295349, 0.00325963,\n",
       "       0.00962296, 0.00231843, 0.00487848, 0.00493966, 0.00371305,\n",
       "       0.00948188, 0.00446896, 0.00153842, 0.01290796, 0.00704915,\n",
       "       0.00905178, 0.00984232, 0.00475512, 0.00131516, 0.01343555,\n",
       "       0.00635093, 0.00426076, 0.01636702, 0.00689323, 0.00482121,\n",
       "       0.00838396, 0.00401968, 0.00894458, 0.01380524, 0.01353193,\n",
       "       0.0111951 , 0.00791082, 0.0112653 , 0.00836987, 0.00256213,\n",
       "       0.09108513, 0.00185773])"
      ]
     },
     "execution_count": 8,
     "metadata": {},
     "output_type": "execute_result"
    }
   ],
   "source": [
    "dt.feature_importances_"
   ]
  },
  {
   "cell_type": "code",
   "execution_count": 13,
   "metadata": {},
   "outputs": [
    {
     "data": {
      "image/png": "[encoded data removed]",
      "text/plain": [
       "<Figure size 576x864 with 1 Axes>"
      ]
     },
     "metadata": {},
     "output_type": "display_data"
    },
    {
     "data": {
      "text/plain": [
       "job_entrepreneur     0.002953\n",
       "job_housemaid        0.003260\n",
       "job_retired          0.002318\n",
       "job_self-employed    0.004878\n",
       "job_services         0.004940\n",
       "job_student          0.003713\n",
       "job_unemployed       0.004469\n",
       "job_unknown          0.001538\n",
       "education_unknown    0.004755\n",
       "default_yes          0.001315\n",
       "contact_telephone    0.004261\n",
       "month_dec            0.004821\n",
       "month_jan            0.004020\n",
       "poutcome_other       0.002562\n",
       "poutcome_unknown     0.001858\n",
       "Name: Feature Importances, dtype: float64"
      ]
     },
     "execution_count": 13,
     "metadata": {},
     "output_type": "execute_result"
    }
   ],
   "source": [
    "reload(utils)\n",
    "low_features = utils.plot_feature_importances(dt.feature_importances_, X_train.columns, thresh=0.005,/\n",
    "                                              return_low_importance_features=True)\n",
    "low_features"
   ]
  },
  {
   "cell_type": "code",
   "execution_count": 14,
   "metadata": {},
   "outputs": [],
   "source": [
    "X_train_drop = X_train.drop(low_features.index, axis=1)\n",
    "X_test_drop = X_test.drop(low_features.index, axis=1)"
   ]
  },
  {
   "cell_type": "code",
   "execution_count": 16,
   "metadata": {},
   "outputs": [
    {
     "name": "stdout",
     "output_type": "stream",
     "text": [
      "Wall time: 229 ms\n"
     ]
    },
    {
     "data": {
      "text/plain": [
       "DecisionTreeClassifier(random_state=42)"
      ]
     },
     "execution_count": 16,
     "metadata": {},
     "output_type": "execute_result"
    }
   ],
   "source": [
    "%%time\n",
    "dt_drop = DecisionTreeClassifier(random_state=RANDOM_STATE)\n",
    "dt_drop.fit(X_train_drop, y_train)"
   ]
  },
  {
   "cell_type": "markdown",
   "metadata": {},
   "source": [
    "# Hyperparameter Tuning"
   ]
  },
  {
   "cell_type": "markdown",
   "metadata": {},
   "source": [
    "### First for the original training data X_train"
   ]
  },
  {
   "cell_type": "code",
   "execution_count": 30,
   "metadata": {},
   "outputs": [
    {
     "name": "stdout",
     "output_type": "stream",
     "text": [
      "Fitting 5 folds for each of 216 candidates, totalling 1080 fits\n"
     ]
    },
    {
     "name": "stderr",
     "output_type": "stream",
     "text": [
      "[Parallel(n_jobs=1)]: Using backend SequentialBackend with 1 concurrent workers.\n",
      "[Parallel(n_jobs=1)]: Done 1080 out of 1080 | elapsed:  1.7min finished\n"
     ]
    }
   ],
   "source": [
    "model_base = DecisionTreeClassifier(random_state=RANDOM_STATE)\n",
    "\n",
    "paramgrid = {'criterion': ['gini', 'entropy'],\n",
    "    'max_depth': [None, 2, 3, 4, 5, 6],\n",
    "    'min_samples_split': [2, 5, 10],\n",
    "    'min_samples_leaf': [1,2,3,4,5,6]}\n",
    "\n",
    "\n",
    "# adboost_paramgrid = {\"n_estimators\": range(40, 60, 5),\n",
    "#               \"learning_rate\": range(1, 2)}\n",
    "\n",
    "# Use f1 macro score as scoring metric to penalise class imbalance (not needed if SMOTE used)\n",
    "gs = GridSearchCV(model_base, paramgrid, verbose=True)\n",
    "gs.fit(X_train, y_train)\n",
    "dt_gs = gs.best_estimator_"
   ]
  },
  {
   "cell_type": "code",
   "execution_count": 31,
   "metadata": {},
   "outputs": [
    {
     "data": {
      "text/plain": [
       "DecisionTreeClassifier(criterion='entropy', max_depth=5, min_samples_leaf=5,\n",
       "                       random_state=42)"
      ]
     },
     "execution_count": 31,
     "metadata": {},
     "output_type": "execute_result"
    }
   ],
   "source": [
    "dt_gs"
   ]
  },
  {
   "cell_type": "markdown",
   "metadata": {},
   "source": [
    "### Next for the training data with only important features X_train_drop"
   ]
  },
  {
   "cell_type": "code",
   "execution_count": 22,
   "metadata": {},
   "outputs": [
    {
     "name": "stdout",
     "output_type": "stream",
     "text": [
      "Fitting 5 folds for each of 216 candidates, totalling 1080 fits\n"
     ]
    },
    {
     "name": "stderr",
     "output_type": "stream",
     "text": [
      "[Parallel(n_jobs=1)]: Using backend SequentialBackend with 1 concurrent workers.\n",
      "[Parallel(n_jobs=1)]: Done 1080 out of 1080 | elapsed:  1.3min finished\n"
     ]
    }
   ],
   "source": [
    "gs_drop = GridSearchCV(model_base, paramgrid, verbose=True)\n",
    "gs_drop.fit(X_train_drop, y_train)\n",
    "dt_drop_gs = gs_drop.best_estimator_"
   ]
  },
  {
   "cell_type": "code",
   "execution_count": 32,
   "metadata": {},
   "outputs": [
    {
     "data": {
      "text/plain": [
       "DecisionTreeClassifier(criterion='entropy', max_depth=5, min_samples_leaf=5,\n",
       "                       random_state=42)"
      ]
     },
     "execution_count": 32,
     "metadata": {},
     "output_type": "execute_result"
    }
   ],
   "source": [
    "dt_drop_gs"
   ]
  },
  {
   "cell_type": "markdown",
   "metadata": {},
   "source": [
    "**We see that the same hyperparameters are learned and the performance is the same.**"
   ]
  },
  {
   "cell_type": "markdown",
   "metadata": {},
   "source": [
    "# Oversampling using SMOTE"
   ]
  },
  {
   "cell_type": "code",
   "execution_count": 35,
   "metadata": {},
   "outputs": [],
   "source": [
    "from imblearn.over_sampling import SMOTE\n",
    "\n",
    "smote = SMOTE(random_state=RANDOM_STATE)\n",
    "X_train_res_drop, y_train_res_drop = smote.fit_resample(X_train_drop, y_train)"
   ]
  },
  {
   "cell_type": "code",
   "execution_count": 46,
   "metadata": {},
   "outputs": [
    {
     "data": {
      "text/plain": [
       "DecisionTreeClassifier(criterion='entropy', max_depth=5, min_samples_leaf=5)"
      ]
     },
     "execution_count": 46,
     "metadata": {},
     "output_type": "execute_result"
    }
   ],
   "source": [
    "# Using the optimal hyperparameters found from GridSearch on original data X_train\n",
    "dt_smote = DecisionTreeClassifier(criterion = 'entropy', max_depth = 5, min_samples_leaf = 5, min_samples_split = 2)\n",
    "dt_smote.fit(X_train_res_drop, y_train_res_drop)"
   ]
  },
  {
   "cell_type": "markdown",
   "metadata": {},
   "source": [
    "# Overview of Decision Tree Model Performance"
   ]
  },
  {
   "cell_type": "code",
   "execution_count": 18,
   "metadata": {},
   "outputs": [],
   "source": [
    "def predictions(estimator, X_train, X_test, y_train, y_test):\n",
    "    y_hat_train = estimator.predict(X_train)\n",
    "    y_hat_test = estimator.predict(X_test)\n",
    "    return [y_train, y_hat_train, y_test, y_hat_test]\n",
    "\n",
    "# preds = predictions(dt_clf_base_drop, X_train_res_drop, X_test_drop,\\\n",
    "#                     y_train_res_drop, y_test)"
   ]
  },
  {
   "cell_type": "code",
   "execution_count": 87,
   "metadata": {},
   "outputs": [
    {
     "name": "stdout",
     "output_type": "stream",
     "text": [
      "-------------------------------------------------------------------\n",
      "Baseline\n",
      "\n",
      "\n",
      "Train\n",
      "              precision    recall  f1-score   support\n",
      "\n",
      "           0       1.00      1.00      1.00     29972\n",
      "           1       1.00      1.00      1.00      3936\n",
      "\n",
      "    accuracy                           1.00     33908\n",
      "   macro avg       1.00      1.00      1.00     33908\n",
      "weighted avg       1.00      1.00      1.00     33908\n",
      "\n",
      "Test\n",
      "              precision    recall  f1-score   support\n",
      "\n",
      "           0       0.93      0.93      0.93      9950\n",
      "           1       0.48      0.48      0.48      1353\n",
      "\n",
      "    accuracy                           0.88     11303\n",
      "   macro avg       0.70      0.70      0.70     11303\n",
      "weighted avg       0.88      0.88      0.88     11303\n",
      "\n",
      "-------------------------------------------------------------------\n",
      "Baseline + Feature Selection\n",
      "\n",
      "\n",
      "Train\n",
      "              precision    recall  f1-score   support\n",
      "\n",
      "           0       1.00      1.00      1.00     29972\n",
      "           1       1.00      1.00      1.00      3936\n",
      "\n",
      "    accuracy                           1.00     33908\n",
      "   macro avg       1.00      1.00      1.00     33908\n",
      "weighted avg       1.00      1.00      1.00     33908\n",
      "\n",
      "Test\n",
      "              precision    recall  f1-score   support\n",
      "\n",
      "           0       0.93      0.93      0.93      9950\n",
      "           1       0.48      0.48      0.48      1353\n",
      "\n",
      "    accuracy                           0.87     11303\n",
      "   macro avg       0.70      0.70      0.70     11303\n",
      "weighted avg       0.87      0.87      0.87     11303\n",
      "\n",
      "-------------------------------------------------------------------\n",
      "Baseline + Feature Selection + GridSearch\n",
      "\n",
      "\n",
      "Train\n",
      "              precision    recall  f1-score   support\n",
      "\n",
      "           0       0.92      0.98      0.95     29972\n",
      "           1       0.68      0.33      0.44      3936\n",
      "\n",
      "    accuracy                           0.90     33908\n",
      "   macro avg       0.80      0.65      0.70     33908\n",
      "weighted avg       0.89      0.90      0.89     33908\n",
      "\n",
      "Test\n",
      "              precision    recall  f1-score   support\n",
      "\n",
      "           0       0.91      0.98      0.94      9950\n",
      "           1       0.63      0.31      0.41      1353\n",
      "\n",
      "    accuracy                           0.90     11303\n",
      "   macro avg       0.77      0.64      0.68     11303\n",
      "weighted avg       0.88      0.90      0.88     11303\n",
      "\n",
      "-------------------------------------------------------------------\n",
      "Baseline + Feature Selection + GridSearch + SMOTE\n",
      "\n",
      "\n",
      "Train\n",
      "              precision    recall  f1-score   support\n",
      "\n",
      "           0       0.88      0.78      0.83     29972\n",
      "           1       0.80      0.90      0.85     29972\n",
      "\n",
      "    accuracy                           0.84     59944\n",
      "   macro avg       0.84      0.84      0.84     59944\n",
      "weighted avg       0.84      0.84      0.84     59944\n",
      "\n",
      "Test\n",
      "              precision    recall  f1-score   support\n",
      "\n",
      "           0       0.97      0.78      0.86      9950\n",
      "           1       0.33      0.80      0.47      1353\n",
      "\n",
      "    accuracy                           0.78     11303\n",
      "   macro avg       0.65      0.79      0.67     11303\n",
      "weighted avg       0.89      0.78      0.82     11303\n",
      "\n"
     ]
    }
   ],
   "source": [
    "def get_metrics(clfs, X_trains, X_tests, y_trains, y_tests, labels):\n",
    "\n",
    "    if isinstance(clfs, list):\n",
    "        for i, clf in enumerate(clfs):\n",
    "            print('-------------------------------------------------------------------')\n",
    "            print(' + '.join(label for label in labels[:i+1]))\n",
    "            print('\\n')\n",
    "#             preds = predictions(clf, X_trains[i], X_tests[i], y_trains[i], y_test[i])\n",
    "            print('Train')\n",
    "            print(classification_report(y_trains[i],clf.predict(X_trains[i])))\n",
    "            print('Test')\n",
    "            print(classification_report(y_tests[i],clf.predict(X_tests[i])))\n",
    "clfs = [dt, dt_drop, dt_drop_gs, dt_smote]\n",
    "X_trains = [X_train, X_train_drop, X_train_drop, X_train_res_drop]\n",
    "X_tests = [X_test, X_test_drop, X_test_drop, X_test_drop]\n",
    "y_trains = [y_train, y_train, y_train, y_train_res_drop]\n",
    "y_tests = [y_test, y_test, y_test, y_test]\n",
    "labels = ['Baseline', 'Feature Selection', 'GridSearch', 'SMOTE']\n",
    "\n",
    "get_metrics(clfs, X_trains, X_tests, y_trains, y_tests, labels)\n",
    "\n",
    "reload(utils)\n",
    "utils.plot_roc_curve(clfs,\\\n",
    "                     X_tests,\\\n",
    "                     y_tests)"
   ]
  },
  {
   "cell_type": "markdown",
   "metadata": {},
   "source": [
    "**This suggests Baseline + Feature Selection + GridSearch is the best Decision Tree model** (highest accuracy and relatively high F1 score). The Baseline and Baseline + Feature Selection models appear to have overfit."
   ]
  },
  {
   "cell_type": "code",
   "execution_count": null,
   "metadata": {},
   "outputs": [],
   "source": []
  }
 ],
 "metadata": {
  "kernelspec": {
   "display_name": "Python (learn-env)",
   "language": "python",
   "name": "learn-env"
  },
  "language_info": {
   "codemirror_mode": {
    "name": "ipython",
    "version": 3
   },
   "file_extension": ".py",
   "mimetype": "text/x-python",
   "name": "python",
   "nbconvert_exporter": "python",
   "pygments_lexer": "ipython3",
   "version": "3.8.5"
  }
 },
 "nbformat": 4,
 "nbformat_minor": 4
}
