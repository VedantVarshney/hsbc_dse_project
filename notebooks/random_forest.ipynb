{
 "cells": [
  {
   "cell_type": "code",
   "execution_count": 1,
   "metadata": {},
   "outputs": [],
   "source": [
    "import pandas as pd\n",
    "import numpy as np\n",
    "\n",
    "from matplotlib import pyplot as plt\n",
    "import seaborn as sns\n",
    "\n",
    "from imblearn.over_sampling import SMOTE, ADASYN\n",
    "from sklearn.ensemble import RandomForestClassifier\n",
    "from sklearn.model_selection import cross_val_score, cross_validate, GridSearchCV\n",
    "from sklearn.metrics import plot_confusion_matrix, plot_roc_curve, classification_report\n",
    "\n",
    "from pathlib import Path\n",
    "\n",
    "# May require pip installation\n",
    "from tqdm.auto import tqdm\n",
    "\n",
    "from importlib import reload\n",
    "\n",
    "import sys\n",
    "sys.path.append(\"../src\")\n",
    "\n",
    "import utils"
   ]
  },
  {
   "cell_type": "code",
   "execution_count": 2,
   "metadata": {},
   "outputs": [
    {
     "data": {
      "text/html": [
       "<div>\n",
       "<style scoped>\n",
       "    .dataframe tbody tr th:only-of-type {\n",
       "        vertical-align: middle;\n",
       "    }\n",
       "\n",
       "    .dataframe tbody tr th {\n",
       "        vertical-align: top;\n",
       "    }\n",
       "\n",
       "    .dataframe thead th {\n",
       "        text-align: right;\n",
       "    }\n",
       "</style>\n",
       "<table border=\"1\" class=\"dataframe\">\n",
       "  <thead>\n",
       "    <tr style=\"text-align: right;\">\n",
       "      <th></th>\n",
       "      <th>age</th>\n",
       "      <th>job</th>\n",
       "      <th>marital</th>\n",
       "      <th>education</th>\n",
       "      <th>default</th>\n",
       "      <th>balance</th>\n",
       "      <th>housing</th>\n",
       "      <th>loan</th>\n",
       "      <th>contact</th>\n",
       "      <th>day</th>\n",
       "      <th>month</th>\n",
       "      <th>duration</th>\n",
       "      <th>campaign</th>\n",
       "      <th>pdays</th>\n",
       "      <th>previous</th>\n",
       "      <th>poutcome</th>\n",
       "      <th>y</th>\n",
       "    </tr>\n",
       "  </thead>\n",
       "  <tbody>\n",
       "    <tr>\n",
       "      <th>0</th>\n",
       "      <td>58</td>\n",
       "      <td>management</td>\n",
       "      <td>married</td>\n",
       "      <td>tertiary</td>\n",
       "      <td>no</td>\n",
       "      <td>2143</td>\n",
       "      <td>yes</td>\n",
       "      <td>no</td>\n",
       "      <td>unknown</td>\n",
       "      <td>5</td>\n",
       "      <td>may</td>\n",
       "      <td>261</td>\n",
       "      <td>1</td>\n",
       "      <td>-1</td>\n",
       "      <td>0</td>\n",
       "      <td>unknown</td>\n",
       "      <td>no</td>\n",
       "    </tr>\n",
       "    <tr>\n",
       "      <th>1</th>\n",
       "      <td>44</td>\n",
       "      <td>technician</td>\n",
       "      <td>single</td>\n",
       "      <td>secondary</td>\n",
       "      <td>no</td>\n",
       "      <td>29</td>\n",
       "      <td>yes</td>\n",
       "      <td>no</td>\n",
       "      <td>unknown</td>\n",
       "      <td>5</td>\n",
       "      <td>may</td>\n",
       "      <td>151</td>\n",
       "      <td>1</td>\n",
       "      <td>-1</td>\n",
       "      <td>0</td>\n",
       "      <td>unknown</td>\n",
       "      <td>no</td>\n",
       "    </tr>\n",
       "    <tr>\n",
       "      <th>2</th>\n",
       "      <td>33</td>\n",
       "      <td>entrepreneur</td>\n",
       "      <td>married</td>\n",
       "      <td>secondary</td>\n",
       "      <td>no</td>\n",
       "      <td>2</td>\n",
       "      <td>yes</td>\n",
       "      <td>yes</td>\n",
       "      <td>unknown</td>\n",
       "      <td>5</td>\n",
       "      <td>may</td>\n",
       "      <td>76</td>\n",
       "      <td>1</td>\n",
       "      <td>-1</td>\n",
       "      <td>0</td>\n",
       "      <td>unknown</td>\n",
       "      <td>no</td>\n",
       "    </tr>\n",
       "    <tr>\n",
       "      <th>3</th>\n",
       "      <td>47</td>\n",
       "      <td>blue-collar</td>\n",
       "      <td>married</td>\n",
       "      <td>unknown</td>\n",
       "      <td>no</td>\n",
       "      <td>1506</td>\n",
       "      <td>yes</td>\n",
       "      <td>no</td>\n",
       "      <td>unknown</td>\n",
       "      <td>5</td>\n",
       "      <td>may</td>\n",
       "      <td>92</td>\n",
       "      <td>1</td>\n",
       "      <td>-1</td>\n",
       "      <td>0</td>\n",
       "      <td>unknown</td>\n",
       "      <td>no</td>\n",
       "    </tr>\n",
       "    <tr>\n",
       "      <th>4</th>\n",
       "      <td>33</td>\n",
       "      <td>unknown</td>\n",
       "      <td>single</td>\n",
       "      <td>unknown</td>\n",
       "      <td>no</td>\n",
       "      <td>1</td>\n",
       "      <td>no</td>\n",
       "      <td>no</td>\n",
       "      <td>unknown</td>\n",
       "      <td>5</td>\n",
       "      <td>may</td>\n",
       "      <td>198</td>\n",
       "      <td>1</td>\n",
       "      <td>-1</td>\n",
       "      <td>0</td>\n",
       "      <td>unknown</td>\n",
       "      <td>no</td>\n",
       "    </tr>\n",
       "  </tbody>\n",
       "</table>\n",
       "</div>"
      ],
      "text/plain": [
       "   age           job  marital  education default  balance housing loan  \\\n",
       "0   58    management  married   tertiary      no     2143     yes   no   \n",
       "1   44    technician   single  secondary      no       29     yes   no   \n",
       "2   33  entrepreneur  married  secondary      no        2     yes  yes   \n",
       "3   47   blue-collar  married    unknown      no     1506     yes   no   \n",
       "4   33       unknown   single    unknown      no        1      no   no   \n",
       "\n",
       "   contact  day month  duration  campaign  pdays  previous poutcome   y  \n",
       "0  unknown    5   may       261         1     -1         0  unknown  no  \n",
       "1  unknown    5   may       151         1     -1         0  unknown  no  \n",
       "2  unknown    5   may        76         1     -1         0  unknown  no  \n",
       "3  unknown    5   may        92         1     -1         0  unknown  no  \n",
       "4  unknown    5   may       198         1     -1         0  unknown  no  "
      ]
     },
     "execution_count": 2,
     "metadata": {},
     "output_type": "execute_result"
    }
   ],
   "source": [
    "plt.rcParams.update({'font.size': 22,'figure.figsize': (12, 8)})\n",
    "plt.style.use(\"seaborn\")\n",
    "f_path = Path(\"../data/bank-full.csv\")\n",
    "df = pd.read_csv(f_path, delimiter=\";\")\n",
    "df.head()"
   ]
  },
  {
   "cell_type": "code",
   "execution_count": 3,
   "metadata": {},
   "outputs": [
    {
     "data": {
      "text/html": [
       "<div>\n",
       "<style scoped>\n",
       "    .dataframe tbody tr th:only-of-type {\n",
       "        vertical-align: middle;\n",
       "    }\n",
       "\n",
       "    .dataframe tbody tr th {\n",
       "        vertical-align: top;\n",
       "    }\n",
       "\n",
       "    .dataframe thead th {\n",
       "        text-align: right;\n",
       "    }\n",
       "</style>\n",
       "<table border=\"1\" class=\"dataframe\">\n",
       "  <thead>\n",
       "    <tr style=\"text-align: right;\">\n",
       "      <th></th>\n",
       "      <th>day</th>\n",
       "      <th>campaign</th>\n",
       "      <th>pdays</th>\n",
       "      <th>previous</th>\n",
       "      <th>age_transf</th>\n",
       "      <th>balance_transf</th>\n",
       "      <th>duration_transf</th>\n",
       "      <th>job_blue-collar</th>\n",
       "      <th>job_entrepreneur</th>\n",
       "      <th>job_housemaid</th>\n",
       "      <th>...</th>\n",
       "      <th>month_jul</th>\n",
       "      <th>month_jun</th>\n",
       "      <th>month_mar</th>\n",
       "      <th>month_may</th>\n",
       "      <th>month_nov</th>\n",
       "      <th>month_oct</th>\n",
       "      <th>month_sep</th>\n",
       "      <th>poutcome_other</th>\n",
       "      <th>poutcome_success</th>\n",
       "      <th>poutcome_unknown</th>\n",
       "    </tr>\n",
       "  </thead>\n",
       "  <tbody>\n",
       "    <tr>\n",
       "      <th>41626</th>\n",
       "      <td>25</td>\n",
       "      <td>1</td>\n",
       "      <td>-1</td>\n",
       "      <td>0</td>\n",
       "      <td>1.041921</td>\n",
       "      <td>-0.408664</td>\n",
       "      <td>-0.594750</td>\n",
       "      <td>0</td>\n",
       "      <td>0</td>\n",
       "      <td>0</td>\n",
       "      <td>...</td>\n",
       "      <td>0</td>\n",
       "      <td>0</td>\n",
       "      <td>0</td>\n",
       "      <td>0</td>\n",
       "      <td>0</td>\n",
       "      <td>0</td>\n",
       "      <td>1</td>\n",
       "      <td>0</td>\n",
       "      <td>0</td>\n",
       "      <td>1</td>\n",
       "    </tr>\n",
       "    <tr>\n",
       "      <th>31347</th>\n",
       "      <td>16</td>\n",
       "      <td>13</td>\n",
       "      <td>-1</td>\n",
       "      <td>0</td>\n",
       "      <td>-1.218254</td>\n",
       "      <td>-0.296667</td>\n",
       "      <td>-0.680179</td>\n",
       "      <td>0</td>\n",
       "      <td>0</td>\n",
       "      <td>0</td>\n",
       "      <td>...</td>\n",
       "      <td>0</td>\n",
       "      <td>0</td>\n",
       "      <td>1</td>\n",
       "      <td>0</td>\n",
       "      <td>0</td>\n",
       "      <td>0</td>\n",
       "      <td>0</td>\n",
       "      <td>0</td>\n",
       "      <td>0</td>\n",
       "      <td>1</td>\n",
       "    </tr>\n",
       "    <tr>\n",
       "      <th>22563</th>\n",
       "      <td>22</td>\n",
       "      <td>1</td>\n",
       "      <td>-1</td>\n",
       "      <td>0</td>\n",
       "      <td>-0.464863</td>\n",
       "      <td>-0.396183</td>\n",
       "      <td>-0.528737</td>\n",
       "      <td>0</td>\n",
       "      <td>0</td>\n",
       "      <td>0</td>\n",
       "      <td>...</td>\n",
       "      <td>0</td>\n",
       "      <td>0</td>\n",
       "      <td>0</td>\n",
       "      <td>0</td>\n",
       "      <td>0</td>\n",
       "      <td>0</td>\n",
       "      <td>0</td>\n",
       "      <td>0</td>\n",
       "      <td>0</td>\n",
       "      <td>1</td>\n",
       "    </tr>\n",
       "    <tr>\n",
       "      <th>37243</th>\n",
       "      <td>13</td>\n",
       "      <td>1</td>\n",
       "      <td>-1</td>\n",
       "      <td>0</td>\n",
       "      <td>1.324443</td>\n",
       "      <td>-0.341334</td>\n",
       "      <td>-0.225854</td>\n",
       "      <td>0</td>\n",
       "      <td>1</td>\n",
       "      <td>0</td>\n",
       "      <td>...</td>\n",
       "      <td>0</td>\n",
       "      <td>0</td>\n",
       "      <td>0</td>\n",
       "      <td>1</td>\n",
       "      <td>0</td>\n",
       "      <td>0</td>\n",
       "      <td>0</td>\n",
       "      <td>0</td>\n",
       "      <td>0</td>\n",
       "      <td>1</td>\n",
       "    </tr>\n",
       "    <tr>\n",
       "      <th>32259</th>\n",
       "      <td>16</td>\n",
       "      <td>1</td>\n",
       "      <td>339</td>\n",
       "      <td>1</td>\n",
       "      <td>-0.276515</td>\n",
       "      <td>-0.150513</td>\n",
       "      <td>0.399328</td>\n",
       "      <td>0</td>\n",
       "      <td>0</td>\n",
       "      <td>0</td>\n",
       "      <td>...</td>\n",
       "      <td>0</td>\n",
       "      <td>0</td>\n",
       "      <td>0</td>\n",
       "      <td>0</td>\n",
       "      <td>0</td>\n",
       "      <td>0</td>\n",
       "      <td>0</td>\n",
       "      <td>0</td>\n",
       "      <td>0</td>\n",
       "      <td>0</td>\n",
       "    </tr>\n",
       "    <tr>\n",
       "      <th>...</th>\n",
       "      <td>...</td>\n",
       "      <td>...</td>\n",
       "      <td>...</td>\n",
       "      <td>...</td>\n",
       "      <td>...</td>\n",
       "      <td>...</td>\n",
       "      <td>...</td>\n",
       "      <td>...</td>\n",
       "      <td>...</td>\n",
       "      <td>...</td>\n",
       "      <td>...</td>\n",
       "      <td>...</td>\n",
       "      <td>...</td>\n",
       "      <td>...</td>\n",
       "      <td>...</td>\n",
       "      <td>...</td>\n",
       "      <td>...</td>\n",
       "      <td>...</td>\n",
       "      <td>...</td>\n",
       "      <td>...</td>\n",
       "      <td>...</td>\n",
       "    </tr>\n",
       "    <tr>\n",
       "      <th>11284</th>\n",
       "      <td>18</td>\n",
       "      <td>1</td>\n",
       "      <td>-1</td>\n",
       "      <td>0</td>\n",
       "      <td>0.288529</td>\n",
       "      <td>-0.099605</td>\n",
       "      <td>7.124890</td>\n",
       "      <td>0</td>\n",
       "      <td>0</td>\n",
       "      <td>1</td>\n",
       "      <td>...</td>\n",
       "      <td>0</td>\n",
       "      <td>1</td>\n",
       "      <td>0</td>\n",
       "      <td>0</td>\n",
       "      <td>0</td>\n",
       "      <td>0</td>\n",
       "      <td>0</td>\n",
       "      <td>0</td>\n",
       "      <td>0</td>\n",
       "      <td>1</td>\n",
       "    </tr>\n",
       "    <tr>\n",
       "      <th>44732</th>\n",
       "      <td>8</td>\n",
       "      <td>1</td>\n",
       "      <td>92</td>\n",
       "      <td>1</td>\n",
       "      <td>-1.689124</td>\n",
       "      <td>-0.280574</td>\n",
       "      <td>-0.187023</td>\n",
       "      <td>0</td>\n",
       "      <td>0</td>\n",
       "      <td>0</td>\n",
       "      <td>...</td>\n",
       "      <td>0</td>\n",
       "      <td>0</td>\n",
       "      <td>0</td>\n",
       "      <td>0</td>\n",
       "      <td>0</td>\n",
       "      <td>0</td>\n",
       "      <td>1</td>\n",
       "      <td>0</td>\n",
       "      <td>0</td>\n",
       "      <td>0</td>\n",
       "    </tr>\n",
       "    <tr>\n",
       "      <th>38158</th>\n",
       "      <td>15</td>\n",
       "      <td>1</td>\n",
       "      <td>-1</td>\n",
       "      <td>0</td>\n",
       "      <td>-0.653211</td>\n",
       "      <td>-0.014869</td>\n",
       "      <td>-0.074413</td>\n",
       "      <td>0</td>\n",
       "      <td>0</td>\n",
       "      <td>0</td>\n",
       "      <td>...</td>\n",
       "      <td>0</td>\n",
       "      <td>0</td>\n",
       "      <td>0</td>\n",
       "      <td>1</td>\n",
       "      <td>0</td>\n",
       "      <td>0</td>\n",
       "      <td>0</td>\n",
       "      <td>0</td>\n",
       "      <td>0</td>\n",
       "      <td>1</td>\n",
       "    </tr>\n",
       "    <tr>\n",
       "      <th>860</th>\n",
       "      <td>7</td>\n",
       "      <td>1</td>\n",
       "      <td>-1</td>\n",
       "      <td>0</td>\n",
       "      <td>-0.747384</td>\n",
       "      <td>-0.393227</td>\n",
       "      <td>-0.571452</td>\n",
       "      <td>0</td>\n",
       "      <td>0</td>\n",
       "      <td>0</td>\n",
       "      <td>...</td>\n",
       "      <td>0</td>\n",
       "      <td>0</td>\n",
       "      <td>0</td>\n",
       "      <td>1</td>\n",
       "      <td>0</td>\n",
       "      <td>0</td>\n",
       "      <td>0</td>\n",
       "      <td>0</td>\n",
       "      <td>0</td>\n",
       "      <td>1</td>\n",
       "    </tr>\n",
       "    <tr>\n",
       "      <th>15795</th>\n",
       "      <td>21</td>\n",
       "      <td>10</td>\n",
       "      <td>-1</td>\n",
       "      <td>0</td>\n",
       "      <td>-0.276515</td>\n",
       "      <td>-0.460885</td>\n",
       "      <td>-0.738426</td>\n",
       "      <td>1</td>\n",
       "      <td>0</td>\n",
       "      <td>0</td>\n",
       "      <td>...</td>\n",
       "      <td>1</td>\n",
       "      <td>0</td>\n",
       "      <td>0</td>\n",
       "      <td>0</td>\n",
       "      <td>0</td>\n",
       "      <td>0</td>\n",
       "      <td>0</td>\n",
       "      <td>0</td>\n",
       "      <td>0</td>\n",
       "      <td>1</td>\n",
       "    </tr>\n",
       "  </tbody>\n",
       "</table>\n",
       "<p>33908 rows × 42 columns</p>\n",
       "</div>"
      ],
      "text/plain": [
       "       day  campaign  pdays  previous  age_transf  balance_transf  \\\n",
       "41626   25         1     -1         0    1.041921       -0.408664   \n",
       "31347   16        13     -1         0   -1.218254       -0.296667   \n",
       "22563   22         1     -1         0   -0.464863       -0.396183   \n",
       "37243   13         1     -1         0    1.324443       -0.341334   \n",
       "32259   16         1    339         1   -0.276515       -0.150513   \n",
       "...    ...       ...    ...       ...         ...             ...   \n",
       "11284   18         1     -1         0    0.288529       -0.099605   \n",
       "44732    8         1     92         1   -1.689124       -0.280574   \n",
       "38158   15         1     -1         0   -0.653211       -0.014869   \n",
       "860      7         1     -1         0   -0.747384       -0.393227   \n",
       "15795   21        10     -1         0   -0.276515       -0.460885   \n",
       "\n",
       "       duration_transf  job_blue-collar  job_entrepreneur  job_housemaid  ...  \\\n",
       "41626        -0.594750                0                 0              0  ...   \n",
       "31347        -0.680179                0                 0              0  ...   \n",
       "22563        -0.528737                0                 0              0  ...   \n",
       "37243        -0.225854                0                 1              0  ...   \n",
       "32259         0.399328                0                 0              0  ...   \n",
       "...                ...              ...               ...            ...  ...   \n",
       "11284         7.124890                0                 0              1  ...   \n",
       "44732        -0.187023                0                 0              0  ...   \n",
       "38158        -0.074413                0                 0              0  ...   \n",
       "860          -0.571452                0                 0              0  ...   \n",
       "15795        -0.738426                1                 0              0  ...   \n",
       "\n",
       "       month_jul  month_jun  month_mar  month_may  month_nov  month_oct  \\\n",
       "41626          0          0          0          0          0          0   \n",
       "31347          0          0          1          0          0          0   \n",
       "22563          0          0          0          0          0          0   \n",
       "37243          0          0          0          1          0          0   \n",
       "32259          0          0          0          0          0          0   \n",
       "...          ...        ...        ...        ...        ...        ...   \n",
       "11284          0          1          0          0          0          0   \n",
       "44732          0          0          0          0          0          0   \n",
       "38158          0          0          0          1          0          0   \n",
       "860            0          0          0          1          0          0   \n",
       "15795          1          0          0          0          0          0   \n",
       "\n",
       "       month_sep  poutcome_other  poutcome_success  poutcome_unknown  \n",
       "41626          1               0                 0                 1  \n",
       "31347          0               0                 0                 1  \n",
       "22563          0               0                 0                 1  \n",
       "37243          0               0                 0                 1  \n",
       "32259          0               0                 0                 0  \n",
       "...          ...             ...               ...               ...  \n",
       "11284          0               0                 0                 1  \n",
       "44732          1               0                 0                 0  \n",
       "38158          0               0                 0                 1  \n",
       "860            0               0                 0                 1  \n",
       "15795          0               0                 0                 1  \n",
       "\n",
       "[33908 rows x 42 columns]"
      ]
     },
     "execution_count": 3,
     "metadata": {},
     "output_type": "execute_result"
    }
   ],
   "source": [
    "RANDOM_STATE = 42\n",
    "import utils\n",
    "reload(utils)\n",
    "\n",
    "X_train, X_test, y_train, y_test, scaler = utils.preprocess(df, random_state=RANDOM_STATE)\n",
    "X_train"
   ]
  },
  {
   "cell_type": "markdown",
   "metadata": {},
   "source": [
    "# Baseline model"
   ]
  },
  {
   "cell_type": "code",
   "execution_count": 4,
   "metadata": {},
   "outputs": [
    {
     "name": "stdout",
     "output_type": "stream",
     "text": [
      "Wall time: 3.55 s\n"
     ]
    },
    {
     "data": {
      "text/plain": [
       "RandomForestClassifier(random_state=42)"
      ]
     },
     "execution_count": 4,
     "metadata": {},
     "output_type": "execute_result"
    }
   ],
   "source": [
    "%%time\n",
    "rf = RandomForestClassifier(random_state=RANDOM_STATE)\n",
    "rf.fit(X_train, y_train)"
   ]
  },
  {
   "cell_type": "markdown",
   "metadata": {},
   "source": [
    "# Drop Low Importance Features"
   ]
  },
  {
   "cell_type": "code",
   "execution_count": 5,
   "metadata": {},
   "outputs": [
    {
     "data": {
      "text/plain": [
       "array([0.08675887, 0.03959975, 0.03985896, 0.02130274, 0.09982627,\n",
       "       0.10018569, 0.27370845, 0.00922896, 0.00376526, 0.00326062,\n",
       "       0.01074492, 0.00514691, 0.0047974 , 0.0066915 , 0.00449854,\n",
       "       0.01162975, 0.00473711, 0.00145877, 0.01159985, 0.00946313,\n",
       "       0.01333707, 0.01223793, 0.00573606, 0.00205064, 0.0203904 ,\n",
       "       0.01027622, 0.00742805, 0.0141678 , 0.01087537, 0.00402727,\n",
       "       0.0079943 , 0.00572567, 0.00976103, 0.0110927 , 0.01287982,\n",
       "       0.010605  , 0.00899749, 0.0108499 , 0.00838603, 0.00390253,\n",
       "       0.05340802, 0.00760727])"
      ]
     },
     "execution_count": 5,
     "metadata": {},
     "output_type": "execute_result"
    }
   ],
   "source": [
    "rf.feature_importances_"
   ]
  },
  {
   "cell_type": "code",
   "execution_count": 7,
   "metadata": {},
   "outputs": [
    {
     "data": {
      "image/png": "[encoded data removed]",
      "text/plain": [
       "<Figure size 576x864 with 1 Axes>"
      ]
     },
     "metadata": {},
     "output_type": "display_data"
    },
    {
     "data": {
      "text/plain": [
       "job_entrepreneur     0.003765\n",
       "job_housemaid        0.003261\n",
       "job_self-employed    0.004797\n",
       "job_student          0.004499\n",
       "job_unemployed       0.004737\n",
       "job_unknown          0.001459\n",
       "default_yes          0.002051\n",
       "month_dec            0.004027\n",
       "poutcome_other       0.003903\n",
       "Name: Feature Importances, dtype: float64"
      ]
     },
     "execution_count": 7,
     "metadata": {},
     "output_type": "execute_result"
    }
   ],
   "source": [
    "reload(utils)\n",
    "low_features = utils.plot_feature_importances(rf.feature_importances_, X_train.columns, thresh=0.005,\n",
    "                                              return_low_importance_features=True)\n",
    "low_features"
   ]
  },
  {
   "cell_type": "code",
   "execution_count": 8,
   "metadata": {},
   "outputs": [],
   "source": [
    "X_train_drop = X_train.drop(low_features.index, axis=1)\n",
    "X_test_drop = X_test.drop(low_features.index, axis=1)"
   ]
  },
  {
   "cell_type": "code",
   "execution_count": 18,
   "metadata": {},
   "outputs": [
    {
     "name": "stdout",
     "output_type": "stream",
     "text": [
      "Wall time: 3.42 s\n"
     ]
    },
    {
     "data": {
      "text/plain": [
       "RandomForestClassifier(random_state=42)"
      ]
     },
     "execution_count": 18,
     "metadata": {},
     "output_type": "execute_result"
    }
   ],
   "source": [
    "%%time\n",
    "rf_drop = RandomForestClassifier(random_state=RANDOM_STATE)\n",
    "rf_drop.fit(X_train_drop, y_train)"
   ]
  },
  {
   "cell_type": "markdown",
   "metadata": {},
   "source": [
    "# Hyperparameter Tuning"
   ]
  },
  {
   "cell_type": "markdown",
   "metadata": {},
   "source": [
    "### First for the original training data X_train"
   ]
  },
  {
   "cell_type": "code",
   "execution_count": 10,
   "metadata": {},
   "outputs": [
    {
     "name": "stdout",
     "output_type": "stream",
     "text": [
      "Fitting 5 folds for each of 216 candidates, totalling 1080 fits\n"
     ]
    },
    {
     "name": "stderr",
     "output_type": "stream",
     "text": [
      "[Parallel(n_jobs=1)]: Using backend SequentialBackend with 1 concurrent workers.\n",
      "[Parallel(n_jobs=1)]: Done 1080 out of 1080 | elapsed: 21.1min finished\n"
     ]
    }
   ],
   "source": [
    "model_base = RandomForestClassifier(random_state=RANDOM_STATE)\n",
    "\n",
    "paramgrid = {'criterion': ['gini', 'entropy'],\n",
    "    'max_depth': [None, 2, 3, 4, 5, 6],\n",
    "    'min_samples_split': [2, 5, 10],\n",
    "    'min_samples_leaf': [1,2,3,4,5,6]}\n",
    "\n",
    "\n",
    "# adboost_paramgrid = {\"n_estimators\": range(40, 60, 5),\n",
    "#               \"learning_rate\": range(1, 2)}\n",
    "\n",
    "# Use f1 macro score as scoring metric to penalise class imbalance (not needed if SMOTE used)\n",
    "gs = GridSearchCV(model_base, paramgrid, verbose=True)\n",
    "gs.fit(X_train, y_train)\n",
    "rf_gs = gs.best_estimator_"
   ]
  },
  {
   "cell_type": "code",
   "execution_count": 11,
   "metadata": {},
   "outputs": [
    {
     "data": {
      "text/plain": [
       "RandomForestClassifier(criterion='entropy', min_samples_split=10,\n",
       "                       random_state=42)"
      ]
     },
     "execution_count": 11,
     "metadata": {},
     "output_type": "execute_result"
    }
   ],
   "source": [
    "rf_gs"
   ]
  },
  {
   "cell_type": "code",
   "execution_count": 13,
   "metadata": {},
   "outputs": [
    {
     "name": "stdout",
     "output_type": "stream",
     "text": [
      "Fitting 5 folds for each of 96 candidates, totalling 480 fits\n"
     ]
    },
    {
     "name": "stderr",
     "output_type": "stream",
     "text": [
      "[Parallel(n_jobs=1)]: Using backend SequentialBackend with 1 concurrent workers.\n",
      "[Parallel(n_jobs=1)]: Done 480 out of 480 | elapsed:  5.7min finished\n"
     ]
    }
   ],
   "source": [
    "model_base = RandomForestClassifier(criterion='entropy', min_samples_split=10, random_state=RANDOM_STATE)\n",
    "\n",
    "paramgrid = {\n",
    "    'n_estimators':[10, 30, 100],\n",
    "    'criterion':['gini', 'entropy'],\n",
    "    'max_depth':[None, 2, 6, 10],\n",
    "    'min_samples_split':[5, 10],\n",
    "    'min_samples_leaf': [3, 6]\n",
    "}\n",
    "\n",
    "\n",
    "# adboost_paramgrid = {\"n_estimators\": range(40, 60, 5),\n",
    "#               \"learning_rate\": range(1, 2)}\n",
    "\n",
    "# Use f1 macro score as scoring metric to penalise class imbalance (not needed if SMOTE used)\n",
    "gs2 = GridSearchCV(model_base, paramgrid, verbose=True)\n",
    "gs2.fit(X_train, y_train)\n",
    "rf_gs2 = gs2.best_estimator_"
   ]
  },
  {
   "cell_type": "code",
   "execution_count": 14,
   "metadata": {},
   "outputs": [
    {
     "data": {
      "text/plain": [
       "RandomForestClassifier(min_samples_leaf=3, min_samples_split=10,\n",
       "                       random_state=42)"
      ]
     },
     "execution_count": 14,
     "metadata": {},
     "output_type": "execute_result"
    }
   ],
   "source": [
    "rf_gs2"
   ]
  },
  {
   "cell_type": "markdown",
   "metadata": {},
   "source": [
    "### Next for the training data with only important features X_train_drop"
   ]
  },
  {
   "cell_type": "code",
   "execution_count": null,
   "metadata": {},
   "outputs": [],
   "source": [
    "gs_drop = GridSearchCV(model_base, paramgrid, verbose=True)\n",
    "gs_drop.fit(X_train_drop, y_train)\n",
    "rf_drop_gs = gs_drop.best_estimator_"
   ]
  },
  {
   "cell_type": "code",
   "execution_count": null,
   "metadata": {},
   "outputs": [],
   "source": [
    "dt_drop_gs"
   ]
  },
  {
   "cell_type": "markdown",
   "metadata": {},
   "source": [
    "# Oversampling using SMOTE"
   ]
  },
  {
   "cell_type": "code",
   "execution_count": 15,
   "metadata": {},
   "outputs": [],
   "source": [
    "from imblearn.over_sampling import SMOTE\n",
    "\n",
    "smote = SMOTE(random_state=RANDOM_STATE)\n",
    "X_train_res_drop, y_train_res_drop = smote.fit_resample(X_train_drop, y_train)"
   ]
  },
  {
   "cell_type": "code",
   "execution_count": 19,
   "metadata": {},
   "outputs": [
    {
     "data": {
      "text/plain": [
       "RandomForestClassifier(criterion='entropy', max_depth=5, min_samples_leaf=5)"
      ]
     },
     "execution_count": 19,
     "metadata": {},
     "output_type": "execute_result"
    }
   ],
   "source": [
    "# Using the optimal hyperparameters found from GridSearch on original data X_train\n",
    "rf_smote = RandomForestClassifier(criterion = 'entropy', max_depth = 5, min_samples_leaf = 5, min_samples_split = 2)\n",
    "rf_smote.fit(X_train_res_drop, y_train_res_drop)"
   ]
  },
  {
   "cell_type": "markdown",
   "metadata": {},
   "source": [
    "# Overview of Random Forest Model Performance"
   ]
  },
  {
   "cell_type": "code",
   "execution_count": 21,
   "metadata": {
    "scrolled": false
   },
   "outputs": [
    {
     "name": "stdout",
     "output_type": "stream",
     "text": [
      "-------------------------------------------------------------------\n",
      "Baseline\n",
      "\n",
      "\n",
      "Train\n",
      "              precision    recall  f1-score   support\n",
      "\n",
      "           0       1.00      1.00      1.00     29972\n",
      "           1       1.00      1.00      1.00      3936\n",
      "\n",
      "    accuracy                           1.00     33908\n",
      "   macro avg       1.00      1.00      1.00     33908\n",
      "weighted avg       1.00      1.00      1.00     33908\n",
      "\n",
      "Test\n",
      "              precision    recall  f1-score   support\n",
      "\n",
      "           0       0.92      0.97      0.95      9950\n",
      "           1       0.67      0.41      0.51      1353\n",
      "\n",
      "    accuracy                           0.91     11303\n",
      "   macro avg       0.80      0.69      0.73     11303\n",
      "weighted avg       0.89      0.91      0.90     11303\n",
      "\n",
      "-------------------------------------------------------------------\n",
      "Feature Selection\n",
      "\n",
      "\n",
      "Train\n",
      "              precision    recall  f1-score   support\n",
      "\n",
      "           0       1.00      1.00      1.00     29972\n",
      "           1       1.00      1.00      1.00      3936\n",
      "\n",
      "    accuracy                           1.00     33908\n",
      "   macro avg       1.00      1.00      1.00     33908\n",
      "weighted avg       1.00      1.00      1.00     33908\n",
      "\n",
      "Test\n",
      "              precision    recall  f1-score   support\n",
      "\n",
      "           0       0.92      0.97      0.95      9950\n",
      "           1       0.67      0.41      0.50      1353\n",
      "\n",
      "    accuracy                           0.90     11303\n",
      "   macro avg       0.80      0.69      0.73     11303\n",
      "weighted avg       0.89      0.90      0.89     11303\n",
      "\n",
      "-------------------------------------------------------------------\n",
      "Baseline + GridSearch\n",
      "\n",
      "\n",
      "Train\n",
      "              precision    recall  f1-score   support\n",
      "\n",
      "           0       0.95      0.99      0.97     29972\n",
      "           1       0.93      0.59      0.73      3936\n",
      "\n",
      "    accuracy                           0.95     33908\n",
      "   macro avg       0.94      0.79      0.85     33908\n",
      "weighted avg       0.95      0.95      0.94     33908\n",
      "\n",
      "Test\n",
      "              precision    recall  f1-score   support\n",
      "\n",
      "           0       0.92      0.98      0.95      9950\n",
      "           1       0.69      0.37      0.48      1353\n",
      "\n",
      "    accuracy                           0.90     11303\n",
      "   macro avg       0.80      0.67      0.72     11303\n",
      "weighted avg       0.89      0.90      0.89     11303\n",
      "\n",
      "-------------------------------------------------------------------\n",
      "Baseline + GridSearch + SMOTE\n",
      "\n",
      "\n",
      "Train\n",
      "              precision    recall  f1-score   support\n",
      "\n",
      "           0       0.89      0.83      0.86     29972\n",
      "           1       0.84      0.90      0.87     29972\n",
      "\n",
      "    accuracy                           0.87     59944\n",
      "   macro avg       0.87      0.87      0.87     59944\n",
      "weighted avg       0.87      0.87      0.87     59944\n",
      "\n",
      "Test\n",
      "              precision    recall  f1-score   support\n",
      "\n",
      "           0       0.96      0.83      0.89      9950\n",
      "           1       0.38      0.76      0.51      1353\n",
      "\n",
      "    accuracy                           0.82     11303\n",
      "   macro avg       0.67      0.79      0.70     11303\n",
      "weighted avg       0.89      0.82      0.85     11303\n",
      "\n"
     ]
    },
    {
     "data": {
      "image/png": "[encoded data removed]",
      "text/plain": [
       "<Figure size 576x396 with 1 Axes>"
      ]
     },
     "metadata": {},
     "output_type": "display_data"
    }
   ],
   "source": [
    "def get_metrics(clfs, X_trains, X_tests, y_trains, y_tests, labels):\n",
    "\n",
    "    if isinstance(clfs, list):\n",
    "        for i, clf in enumerate(clfs):\n",
    "            print('-------------------------------------------------------------------')\n",
    "            print(labels[i])\n",
    "            print('\\n')\n",
    "#             preds = predictions(clf, X_trains[i], X_tests[i], y_trains[i], y_test[i])\n",
    "            print('Train')\n",
    "            print(classification_report(y_trains[i],clf.predict(X_trains[i])))\n",
    "            print('Test')\n",
    "            print(classification_report(y_tests[i],clf.predict(X_tests[i])))\n",
    "clfs = [rf, rf_drop, rf_gs2, rf_smote]\n",
    "X_trains = [X_train, X_train_drop, X_train, X_train_res_drop]\n",
    "X_tests = [X_test, X_test_drop, X_test, X_test_drop]\n",
    "y_trains = [y_train, y_train, y_train, y_train_res_drop]\n",
    "y_tests = [y_test, y_test, y_test, y_test]\n",
    "labels = ['Baseline', 'Baseline + Feature Selection', 'Baseline + GridSearch', 'Baseline + GridSearch + SMOTE']\n",
    "\n",
    "get_metrics(clfs, X_trains, X_tests, y_trains, y_tests, labels)\n",
    "\n",
    "reload(utils)\n",
    "utils.plot_roc_curve(clfs,\\\n",
    "                     X_tests,\\\n",
    "                     y_tests)"
   ]
  },
  {
   "cell_type": "markdown",
   "metadata": {},
   "source": [
    "**The GridSearch seemed to do marginally better than Baseline and Baseline + Feature Selection, as it prevented overfitting**."
   ]
  },
  {
   "cell_type": "code",
   "execution_count": null,
   "metadata": {},
   "outputs": [],
   "source": []
  }
 ],
 "metadata": {
  "kernelspec": {
   "display_name": "Python (learn-env)",
   "language": "python",
   "name": "learn-env"
  },
  "language_info": {
   "codemirror_mode": {
    "name": "ipython",
    "version": 3
   },
   "file_extension": ".py",
   "mimetype": "text/x-python",
   "name": "python",
   "nbconvert_exporter": "python",
   "pygments_lexer": "ipython3",
   "version": "3.8.5"
  }
 },
 "nbformat": 4,
 "nbformat_minor": 4
}
